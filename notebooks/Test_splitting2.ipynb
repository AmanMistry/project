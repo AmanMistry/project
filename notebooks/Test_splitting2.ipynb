{
  "nbformat": 4,
  "nbformat_minor": 0,
  "metadata": {
    "colab": {
      "name": "Test_splitting2.ipynb",
      "provenance": [],
      "collapsed_sections": []
    },
    "kernelspec": {
      "name": "python3",
      "display_name": "Python 3"
    }
  },
  "cells": [
    {
      "cell_type": "code",
      "metadata": {
        "id": "XSiYmh7YYxIy",
        "colab_type": "code",
        "colab": {}
      },
      "source": [
        "from google.colab import drive\n",
        "drive.mount('/content/drive')"
      ],
      "execution_count": null,
      "outputs": []
    },
    {
      "cell_type": "code",
      "metadata": {
        "id": "cVzi_R9DZI2O",
        "colab_type": "code",
        "colab": {}
      },
      "source": [
        "import os\n",
        "import shutil\n",
        "import cv2\n",
        "from glob import glob\n",
        "from sklearn.model_selection import train_test_split"
      ],
      "execution_count": 1,
      "outputs": []
    },
    {
      "cell_type": "code",
      "metadata": {
        "id": "JvEKiZTvZMmz",
        "colab_type": "code",
        "colab": {}
      },
      "source": [
        "os.environ['KAGGLE_CONFIG_DIR']=\"/content\""
      ],
      "execution_count": 2,
      "outputs": []
    },
    {
      "cell_type": "code",
      "metadata": {
        "id": "4ZpBnUCFZOY9",
        "colab_type": "code",
        "colab": {
          "base_uri": "https://localhost:8080/",
          "height": 84
        },
        "outputId": "9478e006-2958-484c-9906-1710aa51aaf3"
      },
      "source": [
        "!kaggle datasets download -d plameneduardo/sarscov2-ctscan-dataset"
      ],
      "execution_count": 3,
      "outputs": [
        {
          "output_type": "stream",
          "text": [
            "Warning: Your Kaggle API key is readable by other users on this system! To fix this, you can run 'chmod 600 /content/kaggle.json'\n",
            "Downloading sarscov2-ctscan-dataset.zip to /content\n",
            " 98% 225M/230M [00:07<00:00, 28.1MB/s]\n",
            "100% 230M/230M [00:07<00:00, 34.1MB/s]\n"
          ],
          "name": "stdout"
        }
      ]
    },
    {
      "cell_type": "code",
      "metadata": {
        "id": "JTxGjkycZ9jT",
        "colab_type": "code",
        "colab": {
          "base_uri": "https://localhost:8080/",
          "height": 34
        },
        "outputId": "41ebefdd-027d-4e47-ee21-946bb86e0e5c"
      },
      "source": [
        "from zipfile import ZipFile\n",
        "fname='/content/sarscov2-ctscan-dataset.zip'\n",
        "with ZipFile(fname,'r') as zip:\n",
        "  zip.extractall()\n",
        "  print('done')"
      ],
      "execution_count": 4,
      "outputs": [
        {
          "output_type": "stream",
          "text": [
            "done\n"
          ],
          "name": "stdout"
        }
      ]
    },
    {
      "cell_type": "code",
      "metadata": {
        "id": "a2utwXStaJ5Z",
        "colab_type": "code",
        "colab": {
          "base_uri": "https://localhost:8080/",
          "height": 35
        },
        "outputId": "202cf984-bd7f-4e2d-aabf-7b0fff9a9594"
      },
      "source": [
        "os.mkdir('dataset')\n",
        "shutil.move('/content/COVID','dataset')\n",
        "shutil.move('/content/non-COVID','dataset')"
      ],
      "execution_count": 5,
      "outputs": [
        {
          "output_type": "execute_result",
          "data": {
            "application/vnd.google.colaboratory.intrinsic+json": {
              "type": "string"
            },
            "text/plain": [
              "'dataset/non-COVID'"
            ]
          },
          "metadata": {
            "tags": []
          },
          "execution_count": 5
        }
      ]
    },
    {
      "cell_type": "code",
      "metadata": {
        "id": "AU1_b6SaaN3b",
        "colab_type": "code",
        "colab": {}
      },
      "source": [
        "covid_path='/content/dataset/COVID'\n",
        "non_covid_path='/content/dataset/non-COVID'\n",
        "\n",
        "covid_files=glob(covid_path+'/*')\n",
        "non_covid_files=glob(non_covid_path+'/*')"
      ],
      "execution_count": 6,
      "outputs": []
    },
    {
      "cell_type": "code",
      "metadata": {
        "id": "Yyy5zrC7aR5I",
        "colab_type": "code",
        "colab": {}
      },
      "source": [
        "covid_labels=[]\n",
        "non_covid_labels=[]\n",
        "\n",
        "\n",
        "covid_images=[]\n",
        "non_covid_images=[]\n",
        "\n",
        "\n",
        "import cv2\n",
        "for i in range(len(covid_files)):\n",
        "  image=cv2.imread(covid_files[i])\n",
        "  image=cv2.cvtColor(image,cv2.COLOR_BGR2RGB)\n",
        "  covid_images.append(image)\n",
        "  covid_labels.append('covid')\n",
        "\n",
        "for i in range(len(non_covid_files)):\n",
        "  image=cv2.imread(non_covid_files[i])\n",
        "  image=cv2.cvtColor(image,cv2.COLOR_BGR2RGB)\n",
        "  non_covid_images.append(image)\n",
        "  non_covid_labels.append('non_covid')"
      ],
      "execution_count": 7,
      "outputs": []
    },
    {
      "cell_type": "code",
      "metadata": {
        "id": "-dUaPsrlaXCG",
        "colab_type": "code",
        "colab": {}
      },
      "source": [
        "#split to train,test\n",
        "covid_x_train,covid_x_test,covid_y_train,covid_y_test=train_test_split(covid_images,covid_labels,test_size=.2)\n",
        "non_covid_x_train,non_covid_x_test,non_covid_y_train,non_covid_y_test=train_test_split(non_covid_images,non_covid_labels,test_size=.2)"
      ],
      "execution_count": 8,
      "outputs": []
    },
    {
      "cell_type": "code",
      "metadata": {
        "id": "ofIg1K4gafRN",
        "colab_type": "code",
        "colab": {}
      },
      "source": [
        "os.mkdir('test_data2')\n",
        "os.mkdir('test_data2/covid')\n",
        "os.mkdir('test_data2/non_covid')"
      ],
      "execution_count": 9,
      "outputs": []
    },
    {
      "cell_type": "code",
      "metadata": {
        "id": "2tRLqoAeaq-0",
        "colab_type": "code",
        "colab": {}
      },
      "source": [
        "cnt=1\n",
        "for i in covid_x_test:\n",
        "    cv2.imwrite(os.path.join('test_data2/covid',f'{cnt}.png'),i)\n",
        "    cnt+=1"
      ],
      "execution_count": 10,
      "outputs": []
    },
    {
      "cell_type": "code",
      "metadata": {
        "id": "cJXUpGEwawy1",
        "colab_type": "code",
        "colab": {}
      },
      "source": [
        "cnt=1\n",
        "for i in non_covid_x_test:\n",
        "    cv2.imwrite(os.path.join('test_data2/non_covid',f'{cnt}.png'),i)\n",
        "    cnt+=1"
      ],
      "execution_count": 11,
      "outputs": []
    },
    {
      "cell_type": "code",
      "metadata": {
        "id": "sf5aenL2a3Af",
        "colab_type": "code",
        "colab": {
          "base_uri": "https://localhost:8080/",
          "height": 35
        },
        "outputId": "f17bb83c-e544-48b0-d341-3444ec66de9c"
      },
      "source": [
        "shutil.make_archive('test_data2','zip','test_data2')"
      ],
      "execution_count": 12,
      "outputs": [
        {
          "output_type": "execute_result",
          "data": {
            "application/vnd.google.colaboratory.intrinsic+json": {
              "type": "string"
            },
            "text/plain": [
              "'/content/test_data2.zip'"
            ]
          },
          "metadata": {
            "tags": []
          },
          "execution_count": 12
        }
      ]
    },
    {
      "cell_type": "code",
      "metadata": {
        "id": "d1iMhIdxa7Ma",
        "colab_type": "code",
        "colab": {
          "base_uri": "https://localhost:8080/",
          "height": 35
        },
        "outputId": "d856c9d5-d583-4a54-eca7-41415e0984f5"
      },
      "source": [
        "shutil.copy2('test_data2.zip','/content/drive/My Drive/Untitled folder')"
      ],
      "execution_count": 13,
      "outputs": [
        {
          "output_type": "execute_result",
          "data": {
            "application/vnd.google.colaboratory.intrinsic+json": {
              "type": "string"
            },
            "text/plain": [
              "'/content/drive/My Drive/Untitled folder/test_data2.zip'"
            ]
          },
          "metadata": {
            "tags": []
          },
          "execution_count": 13
        }
      ]
    },
    {
      "cell_type": "code",
      "metadata": {
        "id": "ZOk6sqJZa--F",
        "colab_type": "code",
        "colab": {}
      },
      "source": [
        ""
      ],
      "execution_count": null,
      "outputs": []
    }
  ]
}